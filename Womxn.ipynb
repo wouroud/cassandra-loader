{
  "nbformat": 4,
  "nbformat_minor": 0,
  "metadata": {
    "colab": {
      "name": "Untitled8.ipynb",
      "provenance": [],
      "include_colab_link": true
    },
    "kernelspec": {
      "name": "python3",
      "display_name": "Python 3"
    }
  },
  "cells": [
    {
      "cell_type": "markdown",
      "metadata": {
        "id": "view-in-github",
        "colab_type": "text"
      },
      "source": [
        "<a href=\"https://colab.research.google.com/github/wouroud/cassandra-loader/blob/master/Womxn.ipynb\" target=\"_parent\"><img src=\"https://colab.research.google.com/assets/colab-badge.svg\" alt=\"Open In Colab\"/></a>"
      ]
    },
    {
      "cell_type": "code",
      "metadata": {
        "id": "4vV21S1divZw",
        "colab_type": "code",
        "colab": {}
      },
      "source": [
        "import pandas as pd\n",
        "import numpy as np\n",
        "import os, random, math, glob\n",
        "from IPython.display import Image as IM\n",
        "from IPython.display import clear_output\n",
        "from matplotlib import pyplot as plt\n",
        "\n",
        "from sklearn.model_selection import GroupKFold,StratifiedKFold, KFold,train_test_split\n",
        "from lightgbm import LGBMRegressor\n",
        "import lightgbm\n",
        "\n",
        "from sklearn.metrics import mean_squared_error\n",
        "\n",
        "import random\n",
        "seed = 10 \n",
        "random.seed(seed)\n",
        "np.random.seed(seed)"
      ],
      "execution_count": 0,
      "outputs": []
    },
    {
      "cell_type": "code",
      "metadata": {
        "id": "LcFIcZDMix89",
        "colab_type": "code",
        "outputId": "b6543bed-8b3b-4685-9984-e815b8bef89f",
        "colab": {
          "base_uri": "https://localhost:8080/",
          "height": 309
        }
      },
      "source": [
        "train = pd.read_csv('/content/drive/My Drive/Womxn zindi/Train.csv')\n",
        "train.head()"
      ],
      "execution_count": 80,
      "outputs": [
        {
          "output_type": "execute_result",
          "data": {
            "text/html": [
              "<div>\n",
              "<style scoped>\n",
              "    .dataframe tbody tr th:only-of-type {\n",
              "        vertical-align: middle;\n",
              "    }\n",
              "\n",
              "    .dataframe tbody tr th {\n",
              "        vertical-align: top;\n",
              "    }\n",
              "\n",
              "    .dataframe thead th {\n",
              "        text-align: right;\n",
              "    }\n",
              "</style>\n",
              "<table border=\"1\" class=\"dataframe\">\n",
              "  <thead>\n",
              "    <tr style=\"text-align: right;\">\n",
              "      <th></th>\n",
              "      <th>ward</th>\n",
              "      <th>total_households</th>\n",
              "      <th>total_individuals</th>\n",
              "      <th>target</th>\n",
              "      <th>dw_00</th>\n",
              "      <th>dw_01</th>\n",
              "      <th>dw_02</th>\n",
              "      <th>dw_03</th>\n",
              "      <th>dw_04</th>\n",
              "      <th>dw_05</th>\n",
              "      <th>dw_06</th>\n",
              "      <th>dw_07</th>\n",
              "      <th>dw_08</th>\n",
              "      <th>dw_09</th>\n",
              "      <th>dw_10</th>\n",
              "      <th>dw_11</th>\n",
              "      <th>dw_12</th>\n",
              "      <th>dw_13</th>\n",
              "      <th>psa_00</th>\n",
              "      <th>psa_01</th>\n",
              "      <th>psa_02</th>\n",
              "      <th>psa_03</th>\n",
              "      <th>psa_04</th>\n",
              "      <th>stv_00</th>\n",
              "      <th>stv_01</th>\n",
              "      <th>car_00</th>\n",
              "      <th>car_01</th>\n",
              "      <th>lln_00</th>\n",
              "      <th>lln_01</th>\n",
              "      <th>lan_00</th>\n",
              "      <th>lan_01</th>\n",
              "      <th>lan_02</th>\n",
              "      <th>lan_03</th>\n",
              "      <th>lan_04</th>\n",
              "      <th>lan_05</th>\n",
              "      <th>lan_06</th>\n",
              "      <th>lan_07</th>\n",
              "      <th>lan_08</th>\n",
              "      <th>lan_09</th>\n",
              "      <th>lan_10</th>\n",
              "      <th>lan_11</th>\n",
              "      <th>lan_12</th>\n",
              "      <th>lan_13</th>\n",
              "      <th>lan_14</th>\n",
              "      <th>pg_00</th>\n",
              "      <th>pg_01</th>\n",
              "      <th>pg_02</th>\n",
              "      <th>pg_03</th>\n",
              "      <th>pg_04</th>\n",
              "      <th>lgt_00</th>\n",
              "      <th>pw_00</th>\n",
              "      <th>pw_01</th>\n",
              "      <th>pw_02</th>\n",
              "      <th>pw_03</th>\n",
              "      <th>pw_04</th>\n",
              "      <th>pw_05</th>\n",
              "      <th>pw_06</th>\n",
              "      <th>pw_07</th>\n",
              "      <th>pw_08</th>\n",
              "      <th>ADM4_PCODE</th>\n",
              "      <th>lat</th>\n",
              "      <th>lon</th>\n",
              "      <th>NL</th>\n",
              "    </tr>\n",
              "  </thead>\n",
              "  <tbody>\n",
              "    <tr>\n",
              "      <th>0</th>\n",
              "      <td>41601001: Ward 1</td>\n",
              "      <td>1674.45058</td>\n",
              "      <td>5888.20750</td>\n",
              "      <td>16.773757</td>\n",
              "      <td>0.933841</td>\n",
              "      <td>0.000846</td>\n",
              "      <td>0.005490</td>\n",
              "      <td>0.000676</td>\n",
              "      <td>0.000000</td>\n",
              "      <td>0.001372</td>\n",
              "      <td>0.005750</td>\n",
              "      <td>0.031466</td>\n",
              "      <td>0.008080</td>\n",
              "      <td>0.002823</td>\n",
              "      <td>0.001431</td>\n",
              "      <td>0.008224</td>\n",
              "      <td>0</td>\n",
              "      <td>0</td>\n",
              "      <td>0.260191</td>\n",
              "      <td>0.607898</td>\n",
              "      <td>0.000188</td>\n",
              "      <td>0.010018</td>\n",
              "      <td>0.121705</td>\n",
              "      <td>0.283468</td>\n",
              "      <td>0.716532</td>\n",
              "      <td>0.273727</td>\n",
              "      <td>0.726273</td>\n",
              "      <td>0.118825</td>\n",
              "      <td>0.881175</td>\n",
              "      <td>0.832913</td>\n",
              "      <td>0.012336</td>\n",
              "      <td>0.001923</td>\n",
              "      <td>0.050939</td>\n",
              "      <td>0.000000</td>\n",
              "      <td>0.000564</td>\n",
              "      <td>0.076088</td>\n",
              "      <td>0.006371</td>\n",
              "      <td>0.003663</td>\n",
              "      <td>0.000375</td>\n",
              "      <td>0.000372</td>\n",
              "      <td>0.004943</td>\n",
              "      <td>0.002719</td>\n",
              "      <td>0</td>\n",
              "      <td>0.006793</td>\n",
              "      <td>0.357455</td>\n",
              "      <td>0.563166</td>\n",
              "      <td>0.004260</td>\n",
              "      <td>0.072996</td>\n",
              "      <td>0.002123</td>\n",
              "      <td>0.919424</td>\n",
              "      <td>0.742692</td>\n",
              "      <td>0.214027</td>\n",
              "      <td>0.019968</td>\n",
              "      <td>0.002848</td>\n",
              "      <td>0.007537</td>\n",
              "      <td>0.000000</td>\n",
              "      <td>0.012928</td>\n",
              "      <td>0</td>\n",
              "      <td>0</td>\n",
              "      <td>ZA4161001</td>\n",
              "      <td>-29.682270</td>\n",
              "      <td>24.734743</td>\n",
              "      <td>0.292039</td>\n",
              "    </tr>\n",
              "    <tr>\n",
              "      <th>1</th>\n",
              "      <td>41601002: Ward 2</td>\n",
              "      <td>1736.99230</td>\n",
              "      <td>6735.33812</td>\n",
              "      <td>21.496661</td>\n",
              "      <td>0.696940</td>\n",
              "      <td>0.001253</td>\n",
              "      <td>0.004402</td>\n",
              "      <td>0.000000</td>\n",
              "      <td>0.002301</td>\n",
              "      <td>0.001323</td>\n",
              "      <td>0.007575</td>\n",
              "      <td>0.123547</td>\n",
              "      <td>0.151910</td>\n",
              "      <td>0.001486</td>\n",
              "      <td>0.001253</td>\n",
              "      <td>0.008010</td>\n",
              "      <td>0</td>\n",
              "      <td>0</td>\n",
              "      <td>0.290228</td>\n",
              "      <td>0.549788</td>\n",
              "      <td>0.000000</td>\n",
              "      <td>0.021336</td>\n",
              "      <td>0.138647</td>\n",
              "      <td>0.103641</td>\n",
              "      <td>0.896359</td>\n",
              "      <td>0.144638</td>\n",
              "      <td>0.855362</td>\n",
              "      <td>0.066903</td>\n",
              "      <td>0.933097</td>\n",
              "      <td>0.879655</td>\n",
              "      <td>0.008445</td>\n",
              "      <td>0.000328</td>\n",
              "      <td>0.011249</td>\n",
              "      <td>0.000842</td>\n",
              "      <td>0.001759</td>\n",
              "      <td>0.032431</td>\n",
              "      <td>0.030844</td>\n",
              "      <td>0.001646</td>\n",
              "      <td>0.001308</td>\n",
              "      <td>0.000994</td>\n",
              "      <td>0.000000</td>\n",
              "      <td>0.002439</td>\n",
              "      <td>0</td>\n",
              "      <td>0.028061</td>\n",
              "      <td>0.698428</td>\n",
              "      <td>0.278006</td>\n",
              "      <td>0.003695</td>\n",
              "      <td>0.015835</td>\n",
              "      <td>0.004036</td>\n",
              "      <td>0.959259</td>\n",
              "      <td>0.309294</td>\n",
              "      <td>0.576844</td>\n",
              "      <td>0.018946</td>\n",
              "      <td>0.014566</td>\n",
              "      <td>0.057127</td>\n",
              "      <td>0.019092</td>\n",
              "      <td>0.004131</td>\n",
              "      <td>0</td>\n",
              "      <td>0</td>\n",
              "      <td>ZA4161002</td>\n",
              "      <td>-29.119311</td>\n",
              "      <td>24.757737</td>\n",
              "      <td>3.207775</td>\n",
              "    </tr>\n",
              "    <tr>\n",
              "      <th>2</th>\n",
              "      <td>41601003: Ward 3</td>\n",
              "      <td>2403.57591</td>\n",
              "      <td>7273.04995</td>\n",
              "      <td>10.931425</td>\n",
              "      <td>0.810545</td>\n",
              "      <td>0.004517</td>\n",
              "      <td>0.008891</td>\n",
              "      <td>0.003986</td>\n",
              "      <td>0.007735</td>\n",
              "      <td>0.000956</td>\n",
              "      <td>0.006686</td>\n",
              "      <td>0.022632</td>\n",
              "      <td>0.129902</td>\n",
              "      <td>0.000000</td>\n",
              "      <td>0.000000</td>\n",
              "      <td>0.004150</td>\n",
              "      <td>0</td>\n",
              "      <td>0</td>\n",
              "      <td>0.186435</td>\n",
              "      <td>0.677005</td>\n",
              "      <td>0.000489</td>\n",
              "      <td>0.021315</td>\n",
              "      <td>0.114757</td>\n",
              "      <td>0.165772</td>\n",
              "      <td>0.834228</td>\n",
              "      <td>0.272220</td>\n",
              "      <td>0.727780</td>\n",
              "      <td>0.100009</td>\n",
              "      <td>0.899991</td>\n",
              "      <td>0.565546</td>\n",
              "      <td>0.015991</td>\n",
              "      <td>0.001566</td>\n",
              "      <td>0.111270</td>\n",
              "      <td>0.004795</td>\n",
              "      <td>0.002552</td>\n",
              "      <td>0.148083</td>\n",
              "      <td>0.139687</td>\n",
              "      <td>0.003165</td>\n",
              "      <td>0.000165</td>\n",
              "      <td>0.000779</td>\n",
              "      <td>0.001692</td>\n",
              "      <td>0.002509</td>\n",
              "      <td>0</td>\n",
              "      <td>0.002200</td>\n",
              "      <td>0.672452</td>\n",
              "      <td>0.154225</td>\n",
              "      <td>0.002181</td>\n",
              "      <td>0.167494</td>\n",
              "      <td>0.003649</td>\n",
              "      <td>0.826164</td>\n",
              "      <td>0.323393</td>\n",
              "      <td>0.483376</td>\n",
              "      <td>0.083010</td>\n",
              "      <td>0.057560</td>\n",
              "      <td>0.010358</td>\n",
              "      <td>0.001421</td>\n",
              "      <td>0.040881</td>\n",
              "      <td>0</td>\n",
              "      <td>0</td>\n",
              "      <td>ZA4161003</td>\n",
              "      <td>-29.142276</td>\n",
              "      <td>25.094093</td>\n",
              "      <td>0.000000</td>\n",
              "    </tr>\n",
              "    <tr>\n",
              "      <th>3</th>\n",
              "      <td>41601004: Ward 4</td>\n",
              "      <td>1740.78737</td>\n",
              "      <td>5734.49046</td>\n",
              "      <td>23.119257</td>\n",
              "      <td>0.659914</td>\n",
              "      <td>0.000000</td>\n",
              "      <td>0.006129</td>\n",
              "      <td>0.000000</td>\n",
              "      <td>0.000813</td>\n",
              "      <td>0.037245</td>\n",
              "      <td>0.005255</td>\n",
              "      <td>0.068909</td>\n",
              "      <td>0.218786</td>\n",
              "      <td>0.000000</td>\n",
              "      <td>0.000000</td>\n",
              "      <td>0.002947</td>\n",
              "      <td>0</td>\n",
              "      <td>0</td>\n",
              "      <td>0.281229</td>\n",
              "      <td>0.593281</td>\n",
              "      <td>0.000579</td>\n",
              "      <td>0.007249</td>\n",
              "      <td>0.117663</td>\n",
              "      <td>0.087768</td>\n",
              "      <td>0.912232</td>\n",
              "      <td>0.127875</td>\n",
              "      <td>0.872125</td>\n",
              "      <td>0.029155</td>\n",
              "      <td>0.970845</td>\n",
              "      <td>0.743812</td>\n",
              "      <td>0.006530</td>\n",
              "      <td>0.001188</td>\n",
              "      <td>0.086423</td>\n",
              "      <td>0.006735</td>\n",
              "      <td>0.002308</td>\n",
              "      <td>0.103244</td>\n",
              "      <td>0.038284</td>\n",
              "      <td>0.003080</td>\n",
              "      <td>0.000582</td>\n",
              "      <td>0.000000</td>\n",
              "      <td>0.000197</td>\n",
              "      <td>0.007442</td>\n",
              "      <td>0</td>\n",
              "      <td>0.000174</td>\n",
              "      <td>0.728014</td>\n",
              "      <td>0.263831</td>\n",
              "      <td>0.001806</td>\n",
              "      <td>0.000956</td>\n",
              "      <td>0.005393</td>\n",
              "      <td>0.986151</td>\n",
              "      <td>0.677437</td>\n",
              "      <td>0.314194</td>\n",
              "      <td>0.002689</td>\n",
              "      <td>0.000000</td>\n",
              "      <td>0.000669</td>\n",
              "      <td>0.000000</td>\n",
              "      <td>0.005011</td>\n",
              "      <td>0</td>\n",
              "      <td>0</td>\n",
              "      <td>ZA4161004</td>\n",
              "      <td>-29.372052</td>\n",
              "      <td>24.942867</td>\n",
              "      <td>2.038778</td>\n",
              "    </tr>\n",
              "    <tr>\n",
              "      <th>4</th>\n",
              "      <td>41601005: Ward 5</td>\n",
              "      <td>1730.51451</td>\n",
              "      <td>6657.23835</td>\n",
              "      <td>13.652252</td>\n",
              "      <td>0.950575</td>\n",
              "      <td>0.000655</td>\n",
              "      <td>0.001473</td>\n",
              "      <td>0.000598</td>\n",
              "      <td>0.006999</td>\n",
              "      <td>0.000818</td>\n",
              "      <td>0.004985</td>\n",
              "      <td>0.009150</td>\n",
              "      <td>0.015382</td>\n",
              "      <td>0.008693</td>\n",
              "      <td>0.000000</td>\n",
              "      <td>0.000673</td>\n",
              "      <td>0</td>\n",
              "      <td>0</td>\n",
              "      <td>0.196687</td>\n",
              "      <td>0.517578</td>\n",
              "      <td>0.000989</td>\n",
              "      <td>0.005148</td>\n",
              "      <td>0.279598</td>\n",
              "      <td>0.345975</td>\n",
              "      <td>0.654025</td>\n",
              "      <td>0.404507</td>\n",
              "      <td>0.595493</td>\n",
              "      <td>0.133552</td>\n",
              "      <td>0.866448</td>\n",
              "      <td>0.422623</td>\n",
              "      <td>0.014352</td>\n",
              "      <td>0.000842</td>\n",
              "      <td>0.121869</td>\n",
              "      <td>0.007027</td>\n",
              "      <td>0.002613</td>\n",
              "      <td>0.147363</td>\n",
              "      <td>0.081706</td>\n",
              "      <td>0.003044</td>\n",
              "      <td>0.000169</td>\n",
              "      <td>0.000643</td>\n",
              "      <td>0.001201</td>\n",
              "      <td>0.004276</td>\n",
              "      <td>0</td>\n",
              "      <td>0.192272</td>\n",
              "      <td>0.753491</td>\n",
              "      <td>0.129654</td>\n",
              "      <td>0.004523</td>\n",
              "      <td>0.106953</td>\n",
              "      <td>0.005380</td>\n",
              "      <td>0.957376</td>\n",
              "      <td>0.771106</td>\n",
              "      <td>0.194743</td>\n",
              "      <td>0.009699</td>\n",
              "      <td>0.004859</td>\n",
              "      <td>0.001290</td>\n",
              "      <td>0.000673</td>\n",
              "      <td>0.017629</td>\n",
              "      <td>0</td>\n",
              "      <td>0</td>\n",
              "      <td>ZA4161005</td>\n",
              "      <td>-29.409381</td>\n",
              "      <td>25.290165</td>\n",
              "      <td>0.000000</td>\n",
              "    </tr>\n",
              "  </tbody>\n",
              "</table>\n",
              "</div>"
            ],
            "text/plain": [
              "               ward  total_households  ...        lon        NL\n",
              "0  41601001: Ward 1        1674.45058  ...  24.734743  0.292039\n",
              "1  41601002: Ward 2        1736.99230  ...  24.757737  3.207775\n",
              "2  41601003: Ward 3        2403.57591  ...  25.094093  0.000000\n",
              "3  41601004: Ward 4        1740.78737  ...  24.942867  2.038778\n",
              "4  41601005: Ward 5        1730.51451  ...  25.290165  0.000000\n",
              "\n",
              "[5 rows x 63 columns]"
            ]
          },
          "metadata": {
            "tags": []
          },
          "execution_count": 80
        }
      ]
    },
    {
      "cell_type": "code",
      "metadata": {
        "id": "Ny2N7whmiz29",
        "colab_type": "code",
        "outputId": "d0355128-f261-4e95-9c14-a1fc133ceb26",
        "colab": {
          "base_uri": "https://localhost:8080/",
          "height": 224
        }
      },
      "source": [
        "dwelling_types = ['dw_00', 'dw_01', 'dw_02', 'dw_03', 'dw_04', 'dw_05', 'dw_06', 'dw_07', 'dw_08', 'dw_09', 'dw_10', \n",
        "                        'dw_11', 'dw_12', 'dw_13', 'target']\n",
        "train[dwelling_types].head()"
      ],
      "execution_count": 89,
      "outputs": [
        {
          "output_type": "execute_result",
          "data": {
            "text/html": [
              "<div>\n",
              "<style scoped>\n",
              "    .dataframe tbody tr th:only-of-type {\n",
              "        vertical-align: middle;\n",
              "    }\n",
              "\n",
              "    .dataframe tbody tr th {\n",
              "        vertical-align: top;\n",
              "    }\n",
              "\n",
              "    .dataframe thead th {\n",
              "        text-align: right;\n",
              "    }\n",
              "</style>\n",
              "<table border=\"1\" class=\"dataframe\">\n",
              "  <thead>\n",
              "    <tr style=\"text-align: right;\">\n",
              "      <th></th>\n",
              "      <th>dw_00</th>\n",
              "      <th>dw_01</th>\n",
              "      <th>dw_02</th>\n",
              "      <th>dw_03</th>\n",
              "      <th>dw_04</th>\n",
              "      <th>dw_05</th>\n",
              "      <th>dw_06</th>\n",
              "      <th>dw_07</th>\n",
              "      <th>dw_08</th>\n",
              "      <th>dw_09</th>\n",
              "      <th>dw_10</th>\n",
              "      <th>dw_11</th>\n",
              "      <th>dw_12</th>\n",
              "      <th>dw_13</th>\n",
              "      <th>target</th>\n",
              "    </tr>\n",
              "  </thead>\n",
              "  <tbody>\n",
              "    <tr>\n",
              "      <th>0</th>\n",
              "      <td>0.933841</td>\n",
              "      <td>0.000846</td>\n",
              "      <td>0.005490</td>\n",
              "      <td>0.000676</td>\n",
              "      <td>0.000000</td>\n",
              "      <td>0.001372</td>\n",
              "      <td>0.005750</td>\n",
              "      <td>0.031466</td>\n",
              "      <td>0.008080</td>\n",
              "      <td>0.002823</td>\n",
              "      <td>0.001431</td>\n",
              "      <td>0.008224</td>\n",
              "      <td>0</td>\n",
              "      <td>0</td>\n",
              "      <td>16.773757</td>\n",
              "    </tr>\n",
              "    <tr>\n",
              "      <th>1</th>\n",
              "      <td>0.696940</td>\n",
              "      <td>0.001253</td>\n",
              "      <td>0.004402</td>\n",
              "      <td>0.000000</td>\n",
              "      <td>0.002301</td>\n",
              "      <td>0.001323</td>\n",
              "      <td>0.007575</td>\n",
              "      <td>0.123547</td>\n",
              "      <td>0.151910</td>\n",
              "      <td>0.001486</td>\n",
              "      <td>0.001253</td>\n",
              "      <td>0.008010</td>\n",
              "      <td>0</td>\n",
              "      <td>0</td>\n",
              "      <td>21.496661</td>\n",
              "    </tr>\n",
              "    <tr>\n",
              "      <th>2</th>\n",
              "      <td>0.810545</td>\n",
              "      <td>0.004517</td>\n",
              "      <td>0.008891</td>\n",
              "      <td>0.003986</td>\n",
              "      <td>0.007735</td>\n",
              "      <td>0.000956</td>\n",
              "      <td>0.006686</td>\n",
              "      <td>0.022632</td>\n",
              "      <td>0.129902</td>\n",
              "      <td>0.000000</td>\n",
              "      <td>0.000000</td>\n",
              "      <td>0.004150</td>\n",
              "      <td>0</td>\n",
              "      <td>0</td>\n",
              "      <td>10.931425</td>\n",
              "    </tr>\n",
              "    <tr>\n",
              "      <th>3</th>\n",
              "      <td>0.659914</td>\n",
              "      <td>0.000000</td>\n",
              "      <td>0.006129</td>\n",
              "      <td>0.000000</td>\n",
              "      <td>0.000813</td>\n",
              "      <td>0.037245</td>\n",
              "      <td>0.005255</td>\n",
              "      <td>0.068909</td>\n",
              "      <td>0.218786</td>\n",
              "      <td>0.000000</td>\n",
              "      <td>0.000000</td>\n",
              "      <td>0.002947</td>\n",
              "      <td>0</td>\n",
              "      <td>0</td>\n",
              "      <td>23.119257</td>\n",
              "    </tr>\n",
              "    <tr>\n",
              "      <th>4</th>\n",
              "      <td>0.950575</td>\n",
              "      <td>0.000655</td>\n",
              "      <td>0.001473</td>\n",
              "      <td>0.000598</td>\n",
              "      <td>0.006999</td>\n",
              "      <td>0.000818</td>\n",
              "      <td>0.004985</td>\n",
              "      <td>0.009150</td>\n",
              "      <td>0.015382</td>\n",
              "      <td>0.008693</td>\n",
              "      <td>0.000000</td>\n",
              "      <td>0.000673</td>\n",
              "      <td>0</td>\n",
              "      <td>0</td>\n",
              "      <td>13.652252</td>\n",
              "    </tr>\n",
              "  </tbody>\n",
              "</table>\n",
              "</div>"
            ],
            "text/plain": [
              "      dw_00     dw_01     dw_02     dw_03  ...     dw_11  dw_12  dw_13     target\n",
              "0  0.933841  0.000846  0.005490  0.000676  ...  0.008224      0      0  16.773757\n",
              "1  0.696940  0.001253  0.004402  0.000000  ...  0.008010      0      0  21.496661\n",
              "2  0.810545  0.004517  0.008891  0.003986  ...  0.004150      0      0  10.931425\n",
              "3  0.659914  0.000000  0.006129  0.000000  ...  0.002947      0      0  23.119257\n",
              "4  0.950575  0.000655  0.001473  0.000598  ...  0.000673      0      0  13.652252\n",
              "\n",
              "[5 rows x 15 columns]"
            ]
          },
          "metadata": {
            "tags": []
          },
          "execution_count": 89
        }
      ]
    },
    {
      "cell_type": "code",
      "metadata": {
        "id": "tKWuFfN7i6KU",
        "colab_type": "code",
        "outputId": "3a674936-1882-4f3e-99f0-fa91f4f16db5",
        "colab": {
          "base_uri": "https://localhost:8080/",
          "height": 514
        }
      },
      "source": [
        "train[dwelling_types].corr()[['target']]"
      ],
      "execution_count": 90,
      "outputs": [
        {
          "output_type": "execute_result",
          "data": {
            "text/html": [
              "<div>\n",
              "<style scoped>\n",
              "    .dataframe tbody tr th:only-of-type {\n",
              "        vertical-align: middle;\n",
              "    }\n",
              "\n",
              "    .dataframe tbody tr th {\n",
              "        vertical-align: top;\n",
              "    }\n",
              "\n",
              "    .dataframe thead th {\n",
              "        text-align: right;\n",
              "    }\n",
              "</style>\n",
              "<table border=\"1\" class=\"dataframe\">\n",
              "  <thead>\n",
              "    <tr style=\"text-align: right;\">\n",
              "      <th></th>\n",
              "      <th>target</th>\n",
              "    </tr>\n",
              "  </thead>\n",
              "  <tbody>\n",
              "    <tr>\n",
              "      <th>dw_00</th>\n",
              "      <td>0.018461</td>\n",
              "    </tr>\n",
              "    <tr>\n",
              "      <th>dw_01</th>\n",
              "      <td>0.458206</td>\n",
              "    </tr>\n",
              "    <tr>\n",
              "      <th>dw_02</th>\n",
              "      <td>-0.232727</td>\n",
              "    </tr>\n",
              "    <tr>\n",
              "      <th>dw_03</th>\n",
              "      <td>-0.338137</td>\n",
              "    </tr>\n",
              "    <tr>\n",
              "      <th>dw_04</th>\n",
              "      <td>-0.385533</td>\n",
              "    </tr>\n",
              "    <tr>\n",
              "      <th>dw_05</th>\n",
              "      <td>-0.146357</td>\n",
              "    </tr>\n",
              "    <tr>\n",
              "      <th>dw_06</th>\n",
              "      <td>-0.248573</td>\n",
              "    </tr>\n",
              "    <tr>\n",
              "      <th>dw_07</th>\n",
              "      <td>-0.177763</td>\n",
              "    </tr>\n",
              "    <tr>\n",
              "      <th>dw_08</th>\n",
              "      <td>-0.186627</td>\n",
              "    </tr>\n",
              "    <tr>\n",
              "      <th>dw_09</th>\n",
              "      <td>-0.235331</td>\n",
              "    </tr>\n",
              "    <tr>\n",
              "      <th>dw_10</th>\n",
              "      <td>-0.128540</td>\n",
              "    </tr>\n",
              "    <tr>\n",
              "      <th>dw_11</th>\n",
              "      <td>-0.109490</td>\n",
              "    </tr>\n",
              "    <tr>\n",
              "      <th>dw_12</th>\n",
              "      <td>NaN</td>\n",
              "    </tr>\n",
              "    <tr>\n",
              "      <th>dw_13</th>\n",
              "      <td>NaN</td>\n",
              "    </tr>\n",
              "    <tr>\n",
              "      <th>target</th>\n",
              "      <td>1.000000</td>\n",
              "    </tr>\n",
              "  </tbody>\n",
              "</table>\n",
              "</div>"
            ],
            "text/plain": [
              "          target\n",
              "dw_00   0.018461\n",
              "dw_01   0.458206\n",
              "dw_02  -0.232727\n",
              "dw_03  -0.338137\n",
              "dw_04  -0.385533\n",
              "dw_05  -0.146357\n",
              "dw_06  -0.248573\n",
              "dw_07  -0.177763\n",
              "dw_08  -0.186627\n",
              "dw_09  -0.235331\n",
              "dw_10  -0.128540\n",
              "dw_11  -0.109490\n",
              "dw_12        NaN\n",
              "dw_13        NaN\n",
              "target  1.000000"
            ]
          },
          "metadata": {
            "tags": []
          },
          "execution_count": 90
        }
      ]
    },
    {
      "cell_type": "code",
      "metadata": {
        "id": "3CcHiGx8jO-2",
        "colab_type": "code",
        "outputId": "bfc168e1-0c52-4964-96bd-de66ed6c474e",
        "colab": {
          "base_uri": "https://localhost:8080/",
          "height": 204
        }
      },
      "source": [
        "school_attendance = ['psa_00', 'psa_01', 'psa_02', 'psa_03', 'psa_04', 'target']\n",
        "train[school_attendance].head()"
      ],
      "execution_count": 91,
      "outputs": [
        {
          "output_type": "execute_result",
          "data": {
            "text/html": [
              "<div>\n",
              "<style scoped>\n",
              "    .dataframe tbody tr th:only-of-type {\n",
              "        vertical-align: middle;\n",
              "    }\n",
              "\n",
              "    .dataframe tbody tr th {\n",
              "        vertical-align: top;\n",
              "    }\n",
              "\n",
              "    .dataframe thead th {\n",
              "        text-align: right;\n",
              "    }\n",
              "</style>\n",
              "<table border=\"1\" class=\"dataframe\">\n",
              "  <thead>\n",
              "    <tr style=\"text-align: right;\">\n",
              "      <th></th>\n",
              "      <th>psa_00</th>\n",
              "      <th>psa_01</th>\n",
              "      <th>psa_02</th>\n",
              "      <th>psa_03</th>\n",
              "      <th>psa_04</th>\n",
              "      <th>target</th>\n",
              "    </tr>\n",
              "  </thead>\n",
              "  <tbody>\n",
              "    <tr>\n",
              "      <th>0</th>\n",
              "      <td>0.260191</td>\n",
              "      <td>0.607898</td>\n",
              "      <td>0.000188</td>\n",
              "      <td>0.010018</td>\n",
              "      <td>0.121705</td>\n",
              "      <td>16.773757</td>\n",
              "    </tr>\n",
              "    <tr>\n",
              "      <th>1</th>\n",
              "      <td>0.290228</td>\n",
              "      <td>0.549788</td>\n",
              "      <td>0.000000</td>\n",
              "      <td>0.021336</td>\n",
              "      <td>0.138647</td>\n",
              "      <td>21.496661</td>\n",
              "    </tr>\n",
              "    <tr>\n",
              "      <th>2</th>\n",
              "      <td>0.186435</td>\n",
              "      <td>0.677005</td>\n",
              "      <td>0.000489</td>\n",
              "      <td>0.021315</td>\n",
              "      <td>0.114757</td>\n",
              "      <td>10.931425</td>\n",
              "    </tr>\n",
              "    <tr>\n",
              "      <th>3</th>\n",
              "      <td>0.281229</td>\n",
              "      <td>0.593281</td>\n",
              "      <td>0.000579</td>\n",
              "      <td>0.007249</td>\n",
              "      <td>0.117663</td>\n",
              "      <td>23.119257</td>\n",
              "    </tr>\n",
              "    <tr>\n",
              "      <th>4</th>\n",
              "      <td>0.196687</td>\n",
              "      <td>0.517578</td>\n",
              "      <td>0.000989</td>\n",
              "      <td>0.005148</td>\n",
              "      <td>0.279598</td>\n",
              "      <td>13.652252</td>\n",
              "    </tr>\n",
              "  </tbody>\n",
              "</table>\n",
              "</div>"
            ],
            "text/plain": [
              "     psa_00    psa_01    psa_02    psa_03    psa_04     target\n",
              "0  0.260191  0.607898  0.000188  0.010018  0.121705  16.773757\n",
              "1  0.290228  0.549788  0.000000  0.021336  0.138647  21.496661\n",
              "2  0.186435  0.677005  0.000489  0.021315  0.114757  10.931425\n",
              "3  0.281229  0.593281  0.000579  0.007249  0.117663  23.119257\n",
              "4  0.196687  0.517578  0.000989  0.005148  0.279598  13.652252"
            ]
          },
          "metadata": {
            "tags": []
          },
          "execution_count": 91
        }
      ]
    },
    {
      "cell_type": "code",
      "metadata": {
        "id": "si59cod-jTsf",
        "colab_type": "code",
        "outputId": "e7c7c18d-ff7e-4a68-96d2-272ebe550224",
        "colab": {
          "base_uri": "https://localhost:8080/",
          "height": 235
        }
      },
      "source": [
        "\n",
        "train[school_attendance].corr()[['target']]"
      ],
      "execution_count": 92,
      "outputs": [
        {
          "output_type": "execute_result",
          "data": {
            "text/html": [
              "<div>\n",
              "<style scoped>\n",
              "    .dataframe tbody tr th:only-of-type {\n",
              "        vertical-align: middle;\n",
              "    }\n",
              "\n",
              "    .dataframe tbody tr th {\n",
              "        vertical-align: top;\n",
              "    }\n",
              "\n",
              "    .dataframe thead th {\n",
              "        text-align: right;\n",
              "    }\n",
              "</style>\n",
              "<table border=\"1\" class=\"dataframe\">\n",
              "  <thead>\n",
              "    <tr style=\"text-align: right;\">\n",
              "      <th></th>\n",
              "      <th>target</th>\n",
              "    </tr>\n",
              "  </thead>\n",
              "  <tbody>\n",
              "    <tr>\n",
              "      <th>psa_00</th>\n",
              "      <td>0.782472</td>\n",
              "    </tr>\n",
              "    <tr>\n",
              "      <th>psa_01</th>\n",
              "      <td>-0.707506</td>\n",
              "    </tr>\n",
              "    <tr>\n",
              "      <th>psa_02</th>\n",
              "      <td>-0.097613</td>\n",
              "    </tr>\n",
              "    <tr>\n",
              "      <th>psa_03</th>\n",
              "      <td>-0.301572</td>\n",
              "    </tr>\n",
              "    <tr>\n",
              "      <th>psa_04</th>\n",
              "      <td>0.203999</td>\n",
              "    </tr>\n",
              "    <tr>\n",
              "      <th>target</th>\n",
              "      <td>1.000000</td>\n",
              "    </tr>\n",
              "  </tbody>\n",
              "</table>\n",
              "</div>"
            ],
            "text/plain": [
              "          target\n",
              "psa_00  0.782472\n",
              "psa_01 -0.707506\n",
              "psa_02 -0.097613\n",
              "psa_03 -0.301572\n",
              "psa_04  0.203999\n",
              "target  1.000000"
            ]
          },
          "metadata": {
            "tags": []
          },
          "execution_count": 92
        }
      ]
    },
    {
      "cell_type": "code",
      "metadata": {
        "id": "GyyV4_0UjW0D",
        "colab_type": "code",
        "colab": {}
      },
      "source": [
        "train['household_size'] = train['total_individuals'] / train['total_households']"
      ],
      "execution_count": 0,
      "outputs": []
    },
    {
      "cell_type": "code",
      "metadata": {
        "id": "-5Mscc9MjnGj",
        "colab_type": "code",
        "outputId": "cd92e9e2-b571-4e42-cba8-03b3375104d4",
        "colab": {
          "base_uri": "https://localhost:8080/",
          "height": 111
        }
      },
      "source": [
        "train[['household_size', 'target']].corr()[['target']]"
      ],
      "execution_count": 94,
      "outputs": [
        {
          "output_type": "execute_result",
          "data": {
            "text/html": [
              "<div>\n",
              "<style scoped>\n",
              "    .dataframe tbody tr th:only-of-type {\n",
              "        vertical-align: middle;\n",
              "    }\n",
              "\n",
              "    .dataframe tbody tr th {\n",
              "        vertical-align: top;\n",
              "    }\n",
              "\n",
              "    .dataframe thead th {\n",
              "        text-align: right;\n",
              "    }\n",
              "</style>\n",
              "<table border=\"1\" class=\"dataframe\">\n",
              "  <thead>\n",
              "    <tr style=\"text-align: right;\">\n",
              "      <th></th>\n",
              "      <th>target</th>\n",
              "    </tr>\n",
              "  </thead>\n",
              "  <tbody>\n",
              "    <tr>\n",
              "      <th>household_size</th>\n",
              "      <td>-0.039266</td>\n",
              "    </tr>\n",
              "    <tr>\n",
              "      <th>target</th>\n",
              "      <td>1.000000</td>\n",
              "    </tr>\n",
              "  </tbody>\n",
              "</table>\n",
              "</div>"
            ],
            "text/plain": [
              "                  target\n",
              "household_size -0.039266\n",
              "target          1.000000"
            ]
          },
          "metadata": {
            "tags": []
          },
          "execution_count": 94
        }
      ]
    },
    {
      "cell_type": "code",
      "metadata": {
        "id": "Lg60eGGfjpFW",
        "colab_type": "code",
        "colab": {}
      },
      "source": [
        "final_fields = ['dw_01','psa_00',  'stv_01', 'car_01', 'lln_01', 'lan_05', 'pg_00', 'pw_06', 'lon']"
      ],
      "execution_count": 0,
      "outputs": []
    },
    {
      "cell_type": "code",
      "metadata": {
        "id": "6pdR1NfDj0W9",
        "colab_type": "code",
        "colab": {}
      },
      "source": [
        "\n",
        "X = train[final_fields]\n",
        "y = train[['target']]"
      ],
      "execution_count": 0,
      "outputs": []
    },
    {
      "cell_type": "code",
      "metadata": {
        "id": "9b1E9sUpj2J9",
        "colab_type": "code",
        "colab": {}
      },
      "source": [
        "X_train, X_test, y_train, y_test = train_test_split(X, y, test_size=0.15)"
      ],
      "execution_count": 0,
      "outputs": []
    },
    {
      "cell_type": "code",
      "metadata": {
        "colab_type": "code",
        "outputId": "16e13e75-c31d-4c0e-c2eb-73d1df7f4aae",
        "id": "06VN_-2Ml8NB",
        "colab": {
          "base_uri": "https://localhost:8080/",
          "height": 224
        }
      },
      "source": [
        "rfr = RandomForestRegressor()\n",
        "rfr.fit(X_train, y_train)"
      ],
      "execution_count": 109,
      "outputs": [
        {
          "output_type": "stream",
          "text": [
            "/usr/local/lib/python3.6/dist-packages/sklearn/ensemble/forest.py:245: FutureWarning: The default value of n_estimators will change from 10 in version 0.20 to 100 in 0.22.\n",
            "  \"10 in version 0.20 to 100 in 0.22.\", FutureWarning)\n",
            "/usr/local/lib/python3.6/dist-packages/ipykernel_launcher.py:2: DataConversionWarning: A column-vector y was passed when a 1d array was expected. Please change the shape of y to (n_samples,), for example using ravel().\n",
            "  \n"
          ],
          "name": "stderr"
        },
        {
          "output_type": "execute_result",
          "data": {
            "text/plain": [
              "RandomForestRegressor(bootstrap=True, criterion='mse', max_depth=None,\n",
              "                      max_features='auto', max_leaf_nodes=None,\n",
              "                      min_impurity_decrease=0.0, min_impurity_split=None,\n",
              "                      min_samples_leaf=1, min_samples_split=2,\n",
              "                      min_weight_fraction_leaf=0.0, n_estimators=10,\n",
              "                      n_jobs=None, oob_score=False, random_state=None,\n",
              "                      verbose=0, warm_start=False)"
            ]
          },
          "metadata": {
            "tags": []
          },
          "execution_count": 109
        }
      ]
    },
    {
      "cell_type": "code",
      "metadata": {
        "id": "GGH92GErkEoU",
        "colab_type": "code",
        "outputId": "3995a0f6-af1c-428f-eae7-dc3c2b467b01",
        "colab": {
          "base_uri": "https://localhost:8080/",
          "height": 34
        }
      },
      "source": [
        "y_pred = rfr.predict(X_test)\n",
        "np.sqrt(mean_squared_error(y_test, y_pred))"
      ],
      "execution_count": 110,
      "outputs": [
        {
          "output_type": "execute_result",
          "data": {
            "text/plain": [
              "3.947973596597996"
            ]
          },
          "metadata": {
            "tags": []
          },
          "execution_count": 110
        }
      ]
    },
    {
      "cell_type": "code",
      "metadata": {
        "id": "yCmwbCN6kIXF",
        "colab_type": "code",
        "colab": {}
      },
      "source": [
        "test = pd.read_csv('/content/drive/My Drive/Womxn zindi/Test.csv')\n"
      ],
      "execution_count": 0,
      "outputs": []
    },
    {
      "cell_type": "code",
      "metadata": {
        "id": "of9CGSghmOIk",
        "colab_type": "code",
        "colab": {}
      },
      "source": [
        "test['household_size'] = test['total_individuals'] / test['total_households']"
      ],
      "execution_count": 0,
      "outputs": []
    },
    {
      "cell_type": "code",
      "metadata": {
        "id": "yfe8mJVCYr56",
        "colab_type": "code",
        "colab": {
          "base_uri": "https://localhost:8080/",
          "height": 1000
        },
        "outputId": "4db3a1ec-433d-462e-8ce7-97947c7c47ba"
      },
      "source": [
        "def kfold_lightgbm(X,y, debug= False):\n",
        "    print(\"Preparing the datasets...\")\n",
        "\n",
        "    final_test = test[final_fields]\n",
        "    test['target'] = 0.\n",
        "\n",
        "   \n",
        "    print(\"Starting LightGBM. Train shape: {}, test shape: {}\".format(X.shape, final_test.shape))\n",
        "    \n",
        "    score=[]\n",
        "    \n",
        "    print(\"Starting the model...\") \n",
        "    folds = KFold(n_splits=5, shuffle=True, random_state=1)\n",
        "    for n_fold, (trn_idx, val_idx) in enumerate(folds.split(X)):\n",
        "        print(\"Training for fold number  %d/5 :\" %(n_fold+1))\n",
        "        trn_x, trn_y = X.iloc[trn_idx], y.iloc[trn_idx]\n",
        "        val_x, val_y = X.iloc[val_idx], y.iloc[val_idx]\n",
        "        \n",
        "\n",
        "        lgbr = LGBMRegressor(\n",
        "            # n_estimators=100000,\n",
        "            # learning_rate=0.001,\n",
        "            # num_leaves=22,\n",
        "            # # colsample_bytree=.8,\n",
        "            # # subsample=.7,\n",
        "            # max_depth=5,\n",
        "            # reg_lambda=10,\n",
        "            # seed=42\n",
        "        )\n",
        "\n",
        "        lgbr.fit(trn_x, trn_y, \n",
        "                eval_set= [(trn_x, trn_y), (val_x, val_y)], \n",
        "                eval_metric='rmse', verbose=100, early_stopping_rounds=50,\n",
        "               )\n",
        "        score.append(lgbr.best_score_['valid_1']['rmse'])\n",
        "        val_pred=lgbr.predict(val_x,num_iteration=lgbr.best_iteration_)\n",
        "\n",
        "        print(\"The rmse model's prediction is:\", mean_squared_error(val_y, val_pred) ** 0.5)\n",
        "\n",
        "        test['target'] += lgbr.predict(final_test,num_iteration=lgbr.best_iteration_)\n",
        "        \n",
        " \n",
        "        lightgbm.plot_importance(lgbr, height=2.0, max_num_features=25)    \n",
        "\n",
        "        del lgbr, trn_x, trn_y, val_x, val_y\n",
        "        \n",
        "\n",
        "    print(\"Creating submission CSV File...\")\n",
        "    # Write submission file and plot feature importance\n",
        "    if not debug:\n",
        "        test_submission = \"test_submission.csv\"\n",
        "        test['target'] = test['target'] / 5\n",
        "        test[['ward', 'target']].to_csv(test_submission, index= False)\n",
        "        \n",
        "    print(\"CSV Created: Done\")    \n",
        "    \n",
        "\n",
        "\n",
        "    return score\n",
        "\n",
        "score = kfold_lightgbm(X,y)\n",
        "np.mean(score), np.std(score) "
      ],
      "execution_count": 113,
      "outputs": [
        {
          "output_type": "stream",
          "text": [
            "Preparing the datasets...\n",
            "Starting LightGBM. Train shape: (2822, 9), test shape: (1013, 9)\n",
            "Starting the model...\n",
            "Training for fold number  1/5 :\n",
            "Training until validation scores don't improve for 50 rounds.\n",
            "Early stopping, best iteration is:\n",
            "[46]\ttraining's rmse: 2.49905\ttraining's l2: 6.24526\tvalid_1's rmse: 3.73919\tvalid_1's l2: 13.9816\n",
            "The rmse model's prediction is: 3.7391929034316185\n",
            "Training for fold number  2/5 :\n",
            "Training until validation scores don't improve for 50 rounds.\n",
            "[100]\ttraining's rmse: 1.90804\ttraining's l2: 3.64062\tvalid_1's rmse: 3.48171\tvalid_1's l2: 12.1223\n",
            "Did not meet early stopping. Best iteration is:\n",
            "[100]\ttraining's rmse: 1.90804\ttraining's l2: 3.64062\tvalid_1's rmse: 3.48171\tvalid_1's l2: 12.1223\n",
            "The rmse model's prediction is: 3.4817127012983837\n",
            "Training for fold number  3/5 :\n",
            "Training until validation scores don't improve for 50 rounds.\n",
            "[100]\ttraining's rmse: 1.88535\ttraining's l2: 3.55455\tvalid_1's rmse: 3.80855\tvalid_1's l2: 14.5051\n",
            "Did not meet early stopping. Best iteration is:\n",
            "[100]\ttraining's rmse: 1.88535\ttraining's l2: 3.55455\tvalid_1's rmse: 3.80855\tvalid_1's l2: 14.5051\n",
            "The rmse model's prediction is: 3.808552051818719\n",
            "Training for fold number  4/5 :\n",
            "Training until validation scores don't improve for 50 rounds.\n",
            "[100]\ttraining's rmse: 1.91826\ttraining's l2: 3.67971\tvalid_1's rmse: 3.67887\tvalid_1's l2: 13.5341\n",
            "Did not meet early stopping. Best iteration is:\n",
            "[100]\ttraining's rmse: 1.91826\ttraining's l2: 3.67971\tvalid_1's rmse: 3.67887\tvalid_1's l2: 13.5341\n",
            "The rmse model's prediction is: 3.67887007593724\n",
            "Training for fold number  5/5 :\n",
            "Training until validation scores don't improve for 50 rounds.\n",
            "[100]\ttraining's rmse: 1.90026\ttraining's l2: 3.611\tvalid_1's rmse: 3.61924\tvalid_1's l2: 13.0989\n",
            "Did not meet early stopping. Best iteration is:\n",
            "[100]\ttraining's rmse: 1.90026\ttraining's l2: 3.611\tvalid_1's rmse: 3.61924\tvalid_1's l2: 13.0989\n",
            "The rmse model's prediction is: 3.619236143076618\n",
            "Creating submission CSV File...\n",
            "CSV Created: Done\n"
          ],
          "name": "stdout"
        },
        {
          "output_type": "execute_result",
          "data": {
            "text/plain": [
              "(3.6655127861065124, 0.11134757657561017)"
            ]
          },
          "metadata": {
            "tags": []
          },
          "execution_count": 113
        },
        {
          "output_type": "display_data",
          "data": {
            "image/png": "[encoded data removed]",
            "text/plain": [
              "<Figure size 1152x720 with 1 Axes>"
            ]
          },
          "metadata": {
            "tags": []
          }
        },
        {
          "output_type": "display_data",
          "data": {
            "image/png": "[encoded data removed]",
            "text/plain": [
              "<Figure size 1152x720 with 1 Axes>"
            ]
          },
          "metadata": {
            "tags": []
          }
        },
        {
          "output_type": "display_data",
          "data": {
            "image/png": "[encoded data removed]",
            "text/plain": [
              "<Figure size 1152x720 with 1 Axes>"
            ]
          },
          "metadata": {
            "tags": []
          }
        },
        {
          "output_type": "display_data",
          "data": {
            "image/png": "[encoded data removed]",
            "text/plain": [
              "<Figure size 1152x720 with 1 Axes>"
            ]
          },
          "metadata": {
            "tags": []
          }
        },
        {
          "output_type": "display_data",
          "data": {
            "image/png": "[encoded data removed]",
            "text/plain": [
              "<Figure size 1152x720 with 1 Axes>"
            ]
          },
          "metadata": {
            "tags": []
          }
        }
      ]
    },
    {
      "cell_type": "code",
      "metadata": {
        "id": "LzjRpftkkNP0",
        "colab_type": "code",
        "colab": {}
      },
      "source": [
        "final_test = test[final_fields]"
      ],
      "execution_count": 0,
      "outputs": []
    },
    {
      "cell_type": "code",
      "metadata": {
        "id": "jPLlTSPYkRy0",
        "colab_type": "code",
        "colab": {}
      },
      "source": [
        "y_pred_rfr = rfr.predict(final_test)"
      ],
      "execution_count": 0,
      "outputs": []
    },
    {
      "cell_type": "code",
      "metadata": {
        "id": "cx2wSF9wkUqG",
        "colab_type": "code",
        "colab": {}
      },
      "source": [
        "submission_rfr = pd.DataFrame(columns=['ward', 'target'])"
      ],
      "execution_count": 0,
      "outputs": []
    },
    {
      "cell_type": "code",
      "metadata": {
        "id": "CnyZEPSVkaiY",
        "colab_type": "code",
        "outputId": "31f9209b-95c5-49b3-b654-b75fe2a0b218",
        "colab": {
          "base_uri": "https://localhost:8080/",
          "height": 204
        }
      },
      "source": [
        "\n",
        "submission_rfr['ward'] = test['ward']\n",
        "submission_rfr['target'] = y_pred_rfr\n",
        "submission_rfr.head()"
      ],
      "execution_count": 77,
      "outputs": [
        {
          "output_type": "execute_result",
          "data": {
            "text/html": [
              "<div>\n",
              "<style scoped>\n",
              "    .dataframe tbody tr th:only-of-type {\n",
              "        vertical-align: middle;\n",
              "    }\n",
              "\n",
              "    .dataframe tbody tr th {\n",
              "        vertical-align: top;\n",
              "    }\n",
              "\n",
              "    .dataframe thead th {\n",
              "        text-align: right;\n",
              "    }\n",
              "</style>\n",
              "<table border=\"1\" class=\"dataframe\">\n",
              "  <thead>\n",
              "    <tr style=\"text-align: right;\">\n",
              "      <th></th>\n",
              "      <th>ward</th>\n",
              "      <th>target</th>\n",
              "    </tr>\n",
              "  </thead>\n",
              "  <tbody>\n",
              "    <tr>\n",
              "      <th>0</th>\n",
              "      <td>21001001: Ward 1</td>\n",
              "      <td>21.262042</td>\n",
              "    </tr>\n",
              "    <tr>\n",
              "      <th>1</th>\n",
              "      <td>21001002: Ward 2</td>\n",
              "      <td>12.022272</td>\n",
              "    </tr>\n",
              "    <tr>\n",
              "      <th>2</th>\n",
              "      <td>21001003: Ward 3</td>\n",
              "      <td>19.399543</td>\n",
              "    </tr>\n",
              "    <tr>\n",
              "      <th>3</th>\n",
              "      <td>21001004: Ward 4</td>\n",
              "      <td>16.819031</td>\n",
              "    </tr>\n",
              "    <tr>\n",
              "      <th>4</th>\n",
              "      <td>21001005: Ward 5</td>\n",
              "      <td>23.266105</td>\n",
              "    </tr>\n",
              "  </tbody>\n",
              "</table>\n",
              "</div>"
            ],
            "text/plain": [
              "               ward     target\n",
              "0  21001001: Ward 1  21.262042\n",
              "1  21001002: Ward 2  12.022272\n",
              "2  21001003: Ward 3  19.399543\n",
              "3  21001004: Ward 4  16.819031\n",
              "4  21001005: Ward 5  23.266105"
            ]
          },
          "metadata": {
            "tags": []
          },
          "execution_count": 77
        }
      ]
    },
    {
      "cell_type": "code",
      "metadata": {
        "id": "nwL5vb-IkddT",
        "colab_type": "code",
        "colab": {}
      },
      "source": [
        "submission_rfr.to_csv('submission_rfr.csv', index=False)"
      ],
      "execution_count": 0,
      "outputs": []
    },
    {
      "cell_type": "code",
      "metadata": {
        "id": "dgX9unHikfu7",
        "colab_type": "code",
        "colab": {}
      },
      "source": [
        ""
      ],
      "execution_count": 0,
      "outputs": []
    }
  ]
}